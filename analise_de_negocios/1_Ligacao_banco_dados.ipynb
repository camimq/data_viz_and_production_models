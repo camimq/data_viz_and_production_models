{
 "cells": [
  {
   "cell_type": "markdown",
   "metadata": {},
   "source": [
    "## Análise de Negócios\n",
    "### Preços dos combustíveis ofertados nos postos"
   ]
  },
  {
   "cell_type": "markdown",
   "metadata": {},
   "source": [
    "<img src = 'img\\preco_combustivel.jpeg'>"
   ]
  },
  {
   "cell_type": "markdown",
   "metadata": {},
   "source": [
    "### Análise de negócios: Entendendo a dinâmica de preços ofertada pelos postos\n",
    "\n",
    "1 - Dados serão coletados da ANP <br/>\n",
    "link: https://www.gov.br/anp/pt-br/centrais-de-conteudo/dados-abertos/serie-historica-de-precos-de-combustiveis <br/>\n",
    "\n",
    "<img src = 'img\\anp.png' ><br/>\n",
    "\n",
    "Para melhor análise, serão considerados os dados dos últimos 5 anos.<br/>\n",
    "<img src = 'img\\tabela_base_dados.png'><br/>\n",
    "\n"
   ]
  },
  {
   "cell_type": "markdown",
   "metadata": {},
   "source": [
    "2 - Armazenar esses dados em um banco de dados <br/>\n",
    "\n",
    "<img src = 'img\\PostgreSQL-logo.png'><br/>\n",
    "<img src = 'img\\postgre1.png'><br/>\n",
    "\n",
    "Para armazenamento do **banco de dados** será utilizado o PostgreSQL: open source, free e robusto. Abaixo, a _query_ inserida para criação da tabela preco_combustivel, com colunas e tipos de dados.<br/>"
   ]
  },
  {
   "cell_type": "code",
   "execution_count": 1,
   "metadata": {},
   "outputs": [
    {
     "data": {
      "text/plain": [
       "'\\nCREATE TABLE anp.preco_combustivel(\\n\\t\\tregiao \\t\\t\\t\\tvarchar(255)\\n\\t\\t,estado\\t\\t\\t\\tvarchar(255)\\n\\t\\t,municipio\\t\\t\\tvarchar(255)\\n\\t\\t,revenda\\t\\t\\tvarchar(255)\\n\\t\\t,cnpj\\t\\t\\t\\tvarchar(255)\\n\\t\\t,nome_rua\\t\\t\\tvarchar(255)\\t\\n\\t\\t,numero_rua\\t\\t\\tvarchar(255)\\n\\t\\t,complemento\\t\\tvarchar(255)\\n\\t\\t,bairro\\t\\t\\t\\tvarchar(255)\\n\\t\\t,cep\\t\\t\\t\\tvarchar(255)\\n\\t\\t,produto\\t\\t\\tvarchar(255)\\n\\t\\t,data_coleta\\t\\tdate\\n\\t\\t,valor_venda\\t\\tfloat\\n\\t\\t,unidade_medida\\t\\tvarchar(255)\\n\\t\\t,bandeira\\t\\t\\tvarchar(255)\\n\\n)\\n'"
      ]
     },
     "execution_count": 1,
     "metadata": {},
     "output_type": "execute_result"
    }
   ],
   "source": [
    "\"\"\"\n",
    "CREATE TABLE anp.preco_combustivel(\n",
    "\t\tregiao \t\t\t\tvarchar(255)\n",
    "\t\t,estado\t\t\t\tvarchar(255)\n",
    "\t\t,municipio\t\t\tvarchar(255)\n",
    "\t\t,revenda\t\t\tvarchar(255)\n",
    "\t\t,cnpj\t\t\t\tvarchar(255)\n",
    "\t\t,nome_rua\t\t\tvarchar(255)\t\n",
    "\t\t,numero_rua\t\t\tvarchar(255)\n",
    "\t\t,complemento\t\tvarchar(255)\n",
    "\t\t,bairro\t\t\t\tvarchar(255)\n",
    "\t\t,cep\t\t\t\tvarchar(255)\n",
    "\t\t,produto\t\t\tvarchar(255)\n",
    "\t\t,data_coleta\t\tdate\n",
    "\t\t,valor_venda\t\tfloat\n",
    "\t\t,unidade_medida\t\tvarchar(255)\n",
    "\t\t,bandeira\t\t\tvarchar(255)\n",
    "\n",
    ")\n",
    "\"\"\""
   ]
  },
  {
   "cell_type": "markdown",
   "metadata": {},
   "source": [
    "Para carregarmos os dados dentro do PostgreSQL, utilizaremos o Knime para concatenação das 10 tabelas. Após concatenação das 10 tabela, poderemos fazer a inserção conectando o Knime com o PostgreSQL.\n",
    "\n",
    "<img src = 'img\\knime.png'><br/>\n",
    "<img src = 'img\\knime2.png'><br/>\n",
    "Para atender as nossas necessidades vamos construir desta forma.<br/>\n",
    "<img src = 'img\\knime3.png'><br/>"
   ]
  },
  {
   "cell_type": "markdown",
   "metadata": {},
   "source": [
    "3 - Utilizar esses dados para as nossas análises <br/>"
   ]
  },
  {
   "cell_type": "markdown",
   "metadata": {},
   "source": [
    "Instalando as bibliotecas"
   ]
  },
  {
   "cell_type": "code",
   "execution_count": 1,
   "metadata": {},
   "outputs": [],
   "source": [
    "import pandas as pd\n",
    "import pandas.io.sql as sqlio\n",
    "import psycopg2 as ps"
   ]
  },
  {
   "cell_type": "code",
   "execution_count": 4,
   "metadata": {},
   "outputs": [],
   "source": [
    "conn = ps.connect(dbname = 'ANP',\n",
    "                    user ='postgres',\n",
    "                    password = 'cami1510',\n",
    "                    host = 'localhost',\n",
    "                    port = '5432' )\n",
    "\n",
    "# Usa a biblioteca `psycopg2` para estabelecer uma conexão com o BD PostegreSQL.\n",
    "# dbname = 'ANP': espeifica o nome do banco de dados que será conectado\n",
    "# user = 'postegres': nome do usuário usado para autenticação no BD.\n",
    "# password = 'cami1510': senha do usuário.\n",
    "# host = 'localhost': nome do host onde o servidor de banco de dados está sendo executado.\n",
    "# port = '5432': número da porta onde o servidor de banco de dados está escutando.\n",
    "\n",
    "# o resultado da chamada `ps.connect()`, é uma conexão ao banco de dados, que é armazenada na variável `conn`. Esta conexão pode ser usada para executar consultas  SQL e interagir com o banco de dados."
   ]
  },
  {
   "cell_type": "code",
   "execution_count": 5,
   "metadata": {},
   "outputs": [],
   "source": [
    "sql = \"\"\"\n",
    "SELECT * FROM anp.preco_combustivel\n",
    "\"\"\"\n",
    "\n",
    "# Instrução SQL que está sendo armazenada em uma variável Python chamada `sql`. Esta instrução SQL é uma consulta que seleciona todas as linhas e colunas da tabela `anp.preco_combustivel`."
   ]
  },
  {
   "cell_type": "code",
   "execution_count": 7,
   "metadata": {},
   "outputs": [
    {
     "name": "stderr",
     "output_type": "stream",
     "text": [
      "C:\\Users\\Elitebook\\AppData\\Local\\Temp\\ipykernel_9396\\1964820951.py:1: UserWarning: pandas only supports SQLAlchemy connectable (engine/connection) or database string URI or sqlite3 DBAPI2 connection. Other DBAPI2 objects are not tested. Please consider using SQLAlchemy.\n",
      "  df = sqlio.read_sql_query(sql, conn)\n"
     ]
    }
   ],
   "source": [
    "df = sqlio.read_sql_query(sql, conn)\n",
    "\n",
    "# Utiliza biblioteca pandas em conjunto com psycopg2 para executar uma consulta SQL em um banco de dados do PostgreSQL e carrega o resultado diretamente em um DataFrame Pandas:\n",
    "\n",
    "# df: é a variável onde o DataFrame resultante da consulta será armazenado\n",
    "# sqlio.read_sql_query(): função parte do módulo pandas.io.sql que executa a consulta SQL fornecida no primeiro argumento (sql) usando a conexão ao banco de dados especificada no segundo argumento (conn).\n",
    "\n",
    "# O resultado da execução da consulta SQL é automaticamente convertido em um DataFrame Pandas, permitindo manipulação de dados fácil e eficiente em Python."
   ]
  },
  {
   "cell_type": "code",
   "execution_count": 8,
   "metadata": {},
   "outputs": [
    {
     "data": {
      "text/html": [
       "<div>\n",
       "<style scoped>\n",
       "    .dataframe tbody tr th:only-of-type {\n",
       "        vertical-align: middle;\n",
       "    }\n",
       "\n",
       "    .dataframe tbody tr th {\n",
       "        vertical-align: top;\n",
       "    }\n",
       "\n",
       "    .dataframe thead th {\n",
       "        text-align: right;\n",
       "    }\n",
       "</style>\n",
       "<table border=\"1\" class=\"dataframe\">\n",
       "  <thead>\n",
       "    <tr style=\"text-align: right;\">\n",
       "      <th></th>\n",
       "      <th>regiao</th>\n",
       "      <th>estado</th>\n",
       "      <th>municipio</th>\n",
       "      <th>revenda</th>\n",
       "      <th>cnpj</th>\n",
       "      <th>nome_rua</th>\n",
       "      <th>numero_rua</th>\n",
       "      <th>complemento</th>\n",
       "      <th>bairro</th>\n",
       "      <th>cep</th>\n",
       "      <th>produto</th>\n",
       "      <th>data_coleta</th>\n",
       "      <th>valor_venda</th>\n",
       "      <th>unidade_medida</th>\n",
       "      <th>bandeira</th>\n",
       "    </tr>\n",
       "  </thead>\n",
       "  <tbody>\n",
       "    <tr>\n",
       "      <th>0</th>\n",
       "      <td>SE</td>\n",
       "      <td>SP</td>\n",
       "      <td>GUARULHOS</td>\n",
       "      <td>AUTO POSTO SAKAMOTO LTDA</td>\n",
       "      <td>49.051.667/0001-02</td>\n",
       "      <td>RODOVIA PRESIDENTE DUTRA</td>\n",
       "      <td>S/N</td>\n",
       "      <td>KM 210,5-SENT SP/RJ</td>\n",
       "      <td>BONSUCESSO</td>\n",
       "      <td>07178-580</td>\n",
       "      <td>GASOLINA</td>\n",
       "      <td>2019-01-03</td>\n",
       "      <td>4.199</td>\n",
       "      <td>R$ / litro</td>\n",
       "      <td>PETROBRAS DISTRIBUIDORA S.A.</td>\n",
       "    </tr>\n",
       "    <tr>\n",
       "      <th>1</th>\n",
       "      <td>SE</td>\n",
       "      <td>SP</td>\n",
       "      <td>GUARULHOS</td>\n",
       "      <td>AUTO POSTO SAKAMOTO LTDA</td>\n",
       "      <td>49.051.667/0001-02</td>\n",
       "      <td>RODOVIA PRESIDENTE DUTRA</td>\n",
       "      <td>S/N</td>\n",
       "      <td>KM 210,5-SENT SP/RJ</td>\n",
       "      <td>BONSUCESSO</td>\n",
       "      <td>07178-580</td>\n",
       "      <td>ETANOL</td>\n",
       "      <td>2019-01-03</td>\n",
       "      <td>2.899</td>\n",
       "      <td>R$ / litro</td>\n",
       "      <td>PETROBRAS DISTRIBUIDORA S.A.</td>\n",
       "    </tr>\n",
       "    <tr>\n",
       "      <th>2</th>\n",
       "      <td>SE</td>\n",
       "      <td>SP</td>\n",
       "      <td>GUARULHOS</td>\n",
       "      <td>AUTO POSTO SAKAMOTO LTDA</td>\n",
       "      <td>49.051.667/0001-02</td>\n",
       "      <td>RODOVIA PRESIDENTE DUTRA</td>\n",
       "      <td>S/N</td>\n",
       "      <td>KM 210,5-SENT SP/RJ</td>\n",
       "      <td>BONSUCESSO</td>\n",
       "      <td>07178-580</td>\n",
       "      <td>DIESEL S10</td>\n",
       "      <td>2019-01-03</td>\n",
       "      <td>3.349</td>\n",
       "      <td>R$ / litro</td>\n",
       "      <td>PETROBRAS DISTRIBUIDORA S.A.</td>\n",
       "    </tr>\n",
       "    <tr>\n",
       "      <th>3</th>\n",
       "      <td>SE</td>\n",
       "      <td>SP</td>\n",
       "      <td>GUARULHOS</td>\n",
       "      <td>AUTO POSTO SAKAMOTO LTDA</td>\n",
       "      <td>49.051.667/0001-02</td>\n",
       "      <td>RODOVIA PRESIDENTE DUTRA</td>\n",
       "      <td>S/N</td>\n",
       "      <td>KM 210,5-SENT SP/RJ</td>\n",
       "      <td>BONSUCESSO</td>\n",
       "      <td>07178-580</td>\n",
       "      <td>GNV</td>\n",
       "      <td>2019-01-03</td>\n",
       "      <td>2.439</td>\n",
       "      <td>R$ / m³</td>\n",
       "      <td>PETROBRAS DISTRIBUIDORA S.A.</td>\n",
       "    </tr>\n",
       "    <tr>\n",
       "      <th>4</th>\n",
       "      <td>S</td>\n",
       "      <td>RS</td>\n",
       "      <td>CANOAS</td>\n",
       "      <td>METROPOLITANO COMERCIO DE COMBUSTIVEIS LTDA</td>\n",
       "      <td>88.587.589/0001-17</td>\n",
       "      <td>AVENIDA GUILHERME SCHELL</td>\n",
       "      <td>6340</td>\n",
       "      <td>None</td>\n",
       "      <td>CENTRO</td>\n",
       "      <td>92310-000</td>\n",
       "      <td>GASOLINA</td>\n",
       "      <td>2019-01-02</td>\n",
       "      <td>4.399</td>\n",
       "      <td>R$ / litro</td>\n",
       "      <td>BRANCA</td>\n",
       "    </tr>\n",
       "  </tbody>\n",
       "</table>\n",
       "</div>"
      ],
      "text/plain": [
       "  regiao estado  municipio                                      revenda  \\\n",
       "0     SE     SP  GUARULHOS                     AUTO POSTO SAKAMOTO LTDA   \n",
       "1     SE     SP  GUARULHOS                     AUTO POSTO SAKAMOTO LTDA   \n",
       "2     SE     SP  GUARULHOS                     AUTO POSTO SAKAMOTO LTDA   \n",
       "3     SE     SP  GUARULHOS                     AUTO POSTO SAKAMOTO LTDA   \n",
       "4      S     RS     CANOAS  METROPOLITANO COMERCIO DE COMBUSTIVEIS LTDA   \n",
       "\n",
       "                  cnpj                  nome_rua numero_rua  \\\n",
       "0   49.051.667/0001-02  RODOVIA PRESIDENTE DUTRA        S/N   \n",
       "1   49.051.667/0001-02  RODOVIA PRESIDENTE DUTRA        S/N   \n",
       "2   49.051.667/0001-02  RODOVIA PRESIDENTE DUTRA        S/N   \n",
       "3   49.051.667/0001-02  RODOVIA PRESIDENTE DUTRA        S/N   \n",
       "4   88.587.589/0001-17  AVENIDA GUILHERME SCHELL       6340   \n",
       "\n",
       "           complemento      bairro        cep     produto data_coleta  \\\n",
       "0  KM 210,5-SENT SP/RJ  BONSUCESSO  07178-580    GASOLINA  2019-01-03   \n",
       "1  KM 210,5-SENT SP/RJ  BONSUCESSO  07178-580      ETANOL  2019-01-03   \n",
       "2  KM 210,5-SENT SP/RJ  BONSUCESSO  07178-580  DIESEL S10  2019-01-03   \n",
       "3  KM 210,5-SENT SP/RJ  BONSUCESSO  07178-580         GNV  2019-01-03   \n",
       "4                 None      CENTRO  92310-000    GASOLINA  2019-01-02   \n",
       "\n",
       "   valor_venda unidade_medida                      bandeira  \n",
       "0        4.199     R$ / litro  PETROBRAS DISTRIBUIDORA S.A.  \n",
       "1        2.899     R$ / litro  PETROBRAS DISTRIBUIDORA S.A.  \n",
       "2        3.349     R$ / litro  PETROBRAS DISTRIBUIDORA S.A.  \n",
       "3        2.439        R$ / m³  PETROBRAS DISTRIBUIDORA S.A.  \n",
       "4        4.399     R$ / litro                        BRANCA  "
      ]
     },
     "execution_count": 8,
     "metadata": {},
     "output_type": "execute_result"
    }
   ],
   "source": [
    "df.head()"
   ]
  },
  {
   "cell_type": "code",
   "execution_count": null,
   "metadata": {},
   "outputs": [
    {
     "name": "stdout",
     "output_type": "stream",
     "text": [
      "<class 'pandas.core.frame.DataFrame'>\n",
      "RangeIndex: 4401370 entries, 0 to 4401369\n",
      "Data columns (total 15 columns):\n",
      " #   Column          Dtype  \n",
      "---  ------          -----  \n",
      " 0   regiao          object \n",
      " 1   estado          object \n",
      " 2   municipio       object \n",
      " 3   revenda         object \n",
      " 4   cnpj            object \n",
      " 5   nome_rua        object \n",
      " 6   numero_rua      object \n",
      " 7   complemento     object \n",
      " 8   bairro          object \n",
      " 9   cep             object \n",
      " 10  produto         object \n",
      " 11  data_coleta     object \n",
      " 12  valor_venda     float64\n",
      " 13  unidade_medida  object \n",
      " 14  bandeira        object \n",
      "dtypes: float64(1), object(14)\n",
      "memory usage: 503.7+ MB\n"
     ]
    }
   ],
   "source": [
    "df.info()"
   ]
  },
  {
   "cell_type": "code",
   "execution_count": null,
   "metadata": {},
   "outputs": [
    {
     "data": {
      "text/plain": [
       "(4401370, 15)"
      ]
     },
     "execution_count": 28,
     "metadata": {},
     "output_type": "execute_result"
    }
   ],
   "source": [
    "df.shape"
   ]
  }
 ],
 "metadata": {
  "kernelspec": {
   "display_name": "Python 3.9.12 64-bit",
   "language": "python",
   "name": "python3"
  },
  "language_info": {
   "codemirror_mode": {
    "name": "ipython",
    "version": 3
   },
   "file_extension": ".py",
   "mimetype": "text/x-python",
   "name": "python",
   "nbconvert_exporter": "python",
   "pygments_lexer": "ipython3",
   "version": "3.12.0"
  },
  "orig_nbformat": 4,
  "vscode": {
   "interpreter": {
    "hash": "8682c474af1cf416eccb63a411a7c81c15a3947ae2d19cb89592b512035f24d4"
   }
  }
 },
 "nbformat": 4,
 "nbformat_minor": 2
}
